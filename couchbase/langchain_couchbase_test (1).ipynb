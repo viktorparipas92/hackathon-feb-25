{
  "nbformat": 4,
  "nbformat_minor": 0,
  "metadata": {
    "colab": {
      "provenance": []
    },
    "kernelspec": {
      "name": "python3",
      "display_name": "Python 3"
    },
    "language_info": {
      "name": "python"
    }
  },
  "cells": [
    {
      "cell_type": "code",
      "execution_count": 17,
      "metadata": {
        "id": "dansiBMi9SWM"
      },
      "outputs": [],
      "source": [
        "!pip install -qU langchain-couchbase"
      ]
    },
    {
      "cell_type": "code",
      "source": [
        "!pip install --upgrade couchbase"
      ],
      "metadata": {
        "colab": {
          "base_uri": "https://localhost:8080/"
        },
        "id": "LnsD74xCOdmq",
        "outputId": "e9490504-10e1-42a8-832a-caf4464dc442"
      },
      "execution_count": 18,
      "outputs": [
        {
          "output_type": "stream",
          "name": "stdout",
          "text": [
            "Requirement already satisfied: couchbase in /usr/local/lib/python3.11/dist-packages (4.3.5)\n"
          ]
        }
      ]
    },
    {
      "cell_type": "code",
      "source": [
        "import getpass"
      ],
      "metadata": {
        "id": "So4wPHuBAhUL"
      },
      "execution_count": 19,
      "outputs": []
    },
    {
      "cell_type": "code",
      "source": [
        "COUCHBASE_CONNECTION_STRING = 'couchbases://cb.vjrdlbmc3no71q9.cloud.couchbase.com'\n",
        "DB_USERNAME = 'general-access'\n",
        "DB_PASSWORD = getpass.getpass(f'Password for {DB_USERNAME}')"
      ],
      "metadata": {
        "id": "Vu5r5yzv9tFY"
      },
      "execution_count": 26,
      "outputs": []
    },
    {
      "cell_type": "code",
      "source": [
        "BUCKET_NAME = 'travel-sample'\n",
        "SCOPE_NAME = '_default'\n",
        "COLLECTION_NAME = 'footway'\n",
        "SEARCH_INDEX_NAME = 'footway-incoming-email'"
      ],
      "metadata": {
        "id": "52Lh1u1sBicv"
      },
      "execution_count": 27,
      "outputs": []
    },
    {
      "cell_type": "code",
      "source": [
        "from datetime import timedelta\n",
        "\n",
        "from couchbase.auth import PasswordAuthenticator\n",
        "from couchbase.cluster import Cluster\n",
        "from couchbase.exceptions import CouchbaseException\n",
        "from couchbase.options import ClusterOptions"
      ],
      "metadata": {
        "id": "XIl3y-J8PxMf"
      },
      "execution_count": null,
      "outputs": []
    },
    {
      "cell_type": "code",
      "source": [
        "auth = PasswordAuthenticator(DB_USERNAME, DB_PASSWORD)\n",
        "options = ClusterOptions(auth)\n",
        "cluster = Cluster(COUCHBASE_CONNECTION_STRING, options)\n",
        "cluster.wait_until_ready(timedelta(seconds=5))"
      ],
      "metadata": {
        "colab": {
          "base_uri": "https://localhost:8080/"
        },
        "id": "SDLplkkzBC_q",
        "outputId": "f4a809e4-01e9-45c5-ff66-9f42fa12ad08"
      },
      "execution_count": 29,
      "outputs": [
        {
          "output_type": "stream",
          "name": "stdout",
          "text": [
            "Connected to cluster\n"
          ]
        }
      ]
    }
  ]
}